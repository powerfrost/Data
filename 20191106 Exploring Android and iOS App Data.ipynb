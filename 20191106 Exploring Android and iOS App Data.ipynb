{
 "cells": [
  {
   "cell_type": "markdown",
   "metadata": {},
   "source": [
    "# Exploring Android and iOS App Data\n",
    "\n",
    "\n",
    "## Overview\n",
    "This is my first Data Project on `Github` and `Dataquest`. \n",
    "\n",
    "The functions used in this project may seem inefficient at times. After all, there are many pre-existing tools that will do the job. This is because it is part of a `Python` learning module, and the purpose is to understand the fundamentals and proofs of functions, without the shortcuts. \n",
    "\n",
    "## Dataset\n",
    "\n",
    "[iOS Dataset](https://www.kaggle.com/ramamet4/app-store-apple-data-set-10k-apps): Containing about 7,000 Apple iOS mobile application details.\n",
    "\n",
    "\n",
    "[Android Dataset](https://www.kaggle.com/lava18/google-play-store-apps): Containing about 10,000 Android mobile application details.\n",
    "\n",
    "## Tasks\n",
    "\n",
    "1. Extract and Explore\n",
    "2. Clean the Datasets\n",
    "3. Light Analysis\n",
    "\n",
    "\n",
    "\n"
   ]
  },
  {
   "cell_type": "markdown",
   "metadata": {},
   "source": [
    "### 1.1 Extract and Explore\n",
    "\n",
    "1.1a Define a function to open the dataset<br>\n",
    "1.1b Assign the data to `AppleData` and `GoogleData` variables<br>\n",
    "1.1c Print the length of each dataset, and the headers "
   ]
  },
  {
   "cell_type": "code",
   "execution_count": 2,
   "metadata": {},
   "outputs": [],
   "source": [
    "# 1.1a Open, read, and assign a csv file to a variable.\n",
    "\n",
    "def open_file(filename):\n",
    "    opened_file = open(filename, encoding = \"utf8\")\n",
    "    from csv import reader\n",
    "    read_file = reader(opened_file)\n",
    "    AppData = list(read_file)\n",
    "    return AppData"
   ]
  },
  {
   "cell_type": "code",
   "execution_count": 3,
   "metadata": {},
   "outputs": [
    {
     "name": "stdout",
     "output_type": "stream",
     "text": [
      "Apple Dataset Length: 7197\n",
      "Google Dataset Length: 10841\n",
      "\n",
      "\n",
      "Apple Dataset Header:\n",
      "['', 'id', 'track_name', 'size_bytes', 'currency', 'price', 'rating_count_tot', 'rating_count_ver', 'user_rating', 'user_rating_ver', 'ver', 'cont_rating', 'prime_genre', 'sup_devices.num', 'ipadSc_urls.num', 'lang.num', 'vpp_lic']\n",
      "\n",
      "\n",
      "Google Dataset Header:\n",
      "['App', 'Category', 'Rating', 'Reviews', 'Size', 'Installs', 'Type', 'Price', 'Content Rating', 'Genres', 'Last Updated', 'Current Ver', 'Android Ver']\n",
      "\n",
      "\n"
     ]
    }
   ],
   "source": [
    "# 1.1b Assigning to AppleData and GoogleData\n",
    "\n",
    "AppleData = open_file(\"AppleStore.csv\")\n",
    "GoogleData = open_file(\"googleplaystore.csv\")\n",
    "\n",
    "# 1.1c Printing out headers for each data table\n",
    "\n",
    "print('Apple Dataset Length:', len(AppleData)-1)\n",
    "print('Google Dataset Length:', len(GoogleData)-1)\n",
    "print('\\n')\n",
    "print('Apple Dataset Header:')\n",
    "\\\n",
    "print(AppleData[0])\n",
    "print('\\n')\n",
    "print('Google Dataset Header:')\n",
    "\\\n",
    "print(GoogleData[0])\n",
    "print('\\n')\n",
    "\n"
   ]
  },
  {
   "cell_type": "markdown",
   "metadata": {},
   "source": [
    "### 2.1 Clean the Datasets: Wrong Entry\n",
    "\n",
    "2.1a Looking at the [`Discussion`](https://www.kaggle.com/lava18/google-play-store-apps/discussion/66015) for the dataset, we noticed that row `10473` has an error<br>\n",
    "2.1b We isolate the row and the issue<br>\n",
    "2.1c Since we don't have the true data to update, we will delete the row\n"
   ]
  },
  {
   "cell_type": "code",
   "execution_count": 4,
   "metadata": {},
   "outputs": [
    {
     "name": "stdout",
     "output_type": "stream",
     "text": [
      "['Life Made WI-Fi Touchscreen Photo Frame', '1.9', '19', '3.0M', '1,000+', 'Free', '0', 'Everyone', '', 'February 11, 2018', '1.0.19', '4.0 and up']\n",
      "\n",
      "\n",
      "['Xposed Wi-Fi-Pwd', 'PERSONALIZATION', '3.5', '1042', '404k', '100,000+', 'Free', '0', 'Everyone', 'Personalization', 'August 5, 2014', '3.0.0', '4.0.3 and up']\n"
     ]
    }
   ],
   "source": [
    "# 2.1b Spotting the entry with an error and comparing to a normal entry\n",
    "\n",
    "print(GoogleData[10473])\n",
    "print('\\n')\n",
    "print(GoogleData[10472])\n",
    "\n",
    "# row 10473 is missing the category column, index 2"
   ]
  },
  {
   "cell_type": "code",
   "execution_count": 5,
   "metadata": {},
   "outputs": [],
   "source": [
    "# 2.1c Deleting the erroneous entry\n",
    "# Remember to only run this cell once, if not you'll delete valid rows\n",
    "del GoogleData[10473]\n",
    "\n"
   ]
  },
  {
   "cell_type": "code",
   "execution_count": 6,
   "metadata": {},
   "outputs": [
    {
     "name": "stdout",
     "output_type": "stream",
     "text": [
      "[['Xposed Wi-Fi-Pwd', 'PERSONALIZATION', '3.5', '1042', '404k', '100,000+', 'Free', '0', 'Everyone', 'Personalization', 'August 5, 2014', '3.0.0', '4.0.3 and up'], ['osmino Wi-Fi: free WiFi', 'TOOLS', '4.2', '134203', '4.1M', '10,000,000+', 'Free', '0', 'Everyone', 'Tools', 'August 7, 2018', '6.06.14', '4.4 and up']]\n"
     ]
    }
   ],
   "source": [
    "print(GoogleData[10472:10474])"
   ]
  },
  {
   "cell_type": "markdown",
   "metadata": {},
   "source": [
    "### 2.2 Clean the Datasets: Dealing with Duplicate Entries \n",
    "\n",
    "2.2a Identify which dataset has duplicate entries<br>\n",
    "2.2b Remove duplicate entries. Keep the entry with the most reviews (which is the latest one).\n"
   ]
  },
  {
   "cell_type": "code",
   "execution_count": 7,
   "metadata": {},
   "outputs": [
    {
     "name": "stdout",
     "output_type": "stream",
     "text": [
      "['Quick PDF Scanner + OCR FREE', 'Box', 'Google My Business', 'ZOOM Cloud Meetings']\n",
      "[]\n"
     ]
    }
   ],
   "source": [
    "# 2.2a Which dataset has duplicate entries?\n",
    "\n",
    "android_unique_apps = []\n",
    "android_duplicate_apps = []\n",
    "\n",
    "for app in GoogleData[1:]:\n",
    "    name = app[0]\n",
    "    if name in android_unique_apps:\n",
    "        android_duplicate_apps.append(name)\n",
    "    else:\n",
    "        android_unique_apps.append(name)\n",
    "        \n",
    "print(android_duplicate_apps[:4])\n",
    "\n",
    "apple_unique_apps = []\n",
    "apple_duplicate_apps = []\n",
    "\n",
    "for app in AppleData[1:]:\n",
    "    name = app[0]\n",
    "    if name in apple_unique_apps:\n",
    "        apple_duplicate_apps.append(name)\n",
    "    else:\n",
    "        apple_unique_apps.append(name)\n",
    "        \n",
    "print(apple_duplicate_apps[:4])\n",
    "    \n",
    "# We can tell that android database has duplicate apps. The iOS database is fine. "
   ]
  },
  {
   "cell_type": "code",
   "execution_count": 8,
   "metadata": {},
   "outputs": [
    {
     "name": "stdout",
     "output_type": "stream",
     "text": [
      "The number of duplicate apps is 1,181\n"
     ]
    }
   ],
   "source": [
    "# 2.2a Printing the number of duplicate apps. Used a library to help with formatting.\n",
    "\n",
    "import locale\n",
    "locale.setlocale(locale.LC_ALL, 'en_US.UTF-8')\n",
    "print(\"The number of duplicate apps is\", '{0:n}'.format(1181))\n",
    "\n"
   ]
  },
  {
   "cell_type": "code",
   "execution_count": 9,
   "metadata": {},
   "outputs": [
    {
     "name": "stdout",
     "output_type": "stream",
     "text": [
      "['Instagram', 'SOCIAL', '4.5', '66577313', 'Varies with device', '1,000,000,000+', 'Free', '0', 'Teen', 'Social', 'July 31, 2018', 'Varies with device', 'Varies with device']\n",
      "['Instagram', 'SOCIAL', '4.5', '66577446', 'Varies with device', '1,000,000,000+', 'Free', '0', 'Teen', 'Social', 'July 31, 2018', 'Varies with device', 'Varies with device']\n",
      "['Instagram', 'SOCIAL', '4.5', '66577313', 'Varies with device', '1,000,000,000+', 'Free', '0', 'Teen', 'Social', 'July 31, 2018', 'Varies with device', 'Varies with device']\n",
      "['Instagram', 'SOCIAL', '4.5', '66509917', 'Varies with device', '1,000,000,000+', 'Free', '0', 'Teen', 'Social', 'July 31, 2018', 'Varies with device', 'Varies with device']\n"
     ]
    }
   ],
   "source": [
    "# 2.2b Let's print a case of duplicates\n",
    "\n",
    "for row in GoogleData[1:]:\n",
    "    if row[0] == \"Instagram\":\n",
    "        print(row)\n",
    "\n",
    "# We can see that Reviews, or index 3, varies depending on when the entry was added\n"
   ]
  },
  {
   "cell_type": "code",
   "execution_count": 10,
   "metadata": {},
   "outputs": [],
   "source": [
    "# 2.2b We will create a dictionary called reviews_max, where the key is the app name \n",
    "# and the value is the maximum number of reviews\n",
    "\n",
    "reviews_max = {}\n",
    "\n",
    "for row in GoogleData[1:]:\n",
    "    name = row[0]\n",
    "    n_reviews = float(row[3])\n",
    "    \n",
    "    if name in reviews_max and reviews_max[name] < n_reviews:\n",
    "        reviews_max[name] = n_reviews\n",
    "        \n",
    "    if name not in reviews_max:\n",
    "        reviews_max[name] = n_reviews\n",
    "        \n",
    "\n",
    "        \n"
   ]
  },
  {
   "cell_type": "code",
   "execution_count": 11,
   "metadata": {},
   "outputs": [
    {
     "name": "stdout",
     "output_type": "stream",
     "text": [
      "The android_clean list has 9659 number of rows\n"
     ]
    }
   ],
   "source": [
    "# 2.2b Creating a deduplicated clean list called android_clean\n",
    "# The already_added list prevents duplicates where the review number is the same \n",
    "# Instagram had 2 rows with the same review number\n",
    "\n",
    "android_clean = []\n",
    "already_added = []\n",
    "\n",
    "for row in GoogleData[1:]:\n",
    "    name = row[0]\n",
    "    n_reviews = float(row[3])\n",
    "    \n",
    "    if n_reviews == reviews_max[name] and name not in already_added:\n",
    "        android_clean.append(row)\n",
    "        already_added.append(name)\n",
    "\n",
    "print('The android_clean list has', len(android_clean), 'number of rows')\n",
    "        \n",
    "# Optional\n",
    "# Why do we need the [already_added] list? \n",
    "# Upon exploring the data, I realised that there are cases where the max_reviews is the same\n",
    "# but other columns are different. Try printing the FOR loop below and spot the difference!\n",
    "\n",
    "# for row in GoogleData[1:]:\n",
    "#     if row[0] == 'Learn C++':\n",
    "#         print(row)\n",
    "\n",
    "\n"
   ]
  },
  {
   "cell_type": "markdown",
   "metadata": {},
   "source": [
    "### 2.3 Clean the Datasets: Removing Non-English Entries and Paid Entries\n",
    "\n",
    "2.3a Example of a Non-English Entry<br>\n",
    "2.3b Function to identify Non-English Entries<br>\n",
    "2.3c Cleaning `android` and `iOS` datatables of Non-English entries<br>\n",
    "2.3d Cleaning `android` and `iOS` datatables of Paid entries"
   ]
  },
  {
   "cell_type": "code",
   "execution_count": 12,
   "metadata": {},
   "outputs": [
    {
     "name": "stdout",
     "output_type": "stream",
     "text": [
      "['中国語 AQリスニング', 'FAMILY', 'NaN', '21', '17M', '5,000+', 'Free', '0', 'Everyone', 'Education', 'June 22, 2016', '2.4.0', '4.0 and up']\n"
     ]
    }
   ],
   "source": [
    "# 2.3a Printing a Non-English Entry\n",
    "\n",
    "print(android_clean[4412])"
   ]
  },
  {
   "cell_type": "code",
   "execution_count": 13,
   "metadata": {},
   "outputs": [
    {
     "name": "stdout",
     "output_type": "stream",
     "text": [
      "Is the word \"chicken\" an English word? True\n",
      "Is the word \"chicken語\" an English word? True\n",
      "Is the word \"chicken語語語\" an English word? True\n",
      "Is the word \"chicken語語語語\" an English word? False\n",
      "Is the word \"chicken😜😜😜😜\" an English word? False\n"
     ]
    }
   ],
   "source": [
    "#2.3b The function is_english will identify any app name which has more than 3 Non-English characters \n",
    "# and return False\n",
    "\n",
    "def is_english(input_string):\n",
    "    count = 0\n",
    "    for char in input_string:\n",
    "        if ord(char) > 127:\n",
    "            count += 1\n",
    "            if count > 3:\n",
    "                return False\n",
    "    return True\n",
    "\n",
    "\n",
    "print('Is the word \"chicken\" an English word?', is_english('chicken'))\n",
    "print('Is the word \"chicken語\" an English word?', is_english('chicken語'))\n",
    "print('Is the word \"chicken語語語\" an English word?', is_english('chicken語語語'))\n",
    "print('Is the word \"chicken語語語語\" an English word?', is_english('chicken語語語語'))\n",
    "print('Is the word \"chicken😜😜😜😜\" an English word?', is_english('chicken😜😜😜😜'))\n"
   ]
  },
  {
   "cell_type": "code",
   "execution_count": 14,
   "metadata": {},
   "outputs": [
    {
     "name": "stdout",
     "output_type": "stream",
     "text": [
      "9614\n",
      "6183\n"
     ]
    }
   ],
   "source": [
    "# 2.3c Cleaning the android and iOS datatables of Non-English entries\n",
    "\n",
    "android_english = []\n",
    "ios_english = []\n",
    "\n",
    "for row in android_clean:\n",
    "    if is_english(row[0]):\n",
    "        android_english.append(row)\n",
    "\n",
    "for row in AppleData[1:]:\n",
    "    # Remember that we still need to remove the header for the AppleData\n",
    "    if is_english(row[2]):\n",
    "        ios_english.append(row)\n",
    "      \n",
    "\n",
    "    \n",
    "print(len(android_english))\n",
    "print(len(ios_english))"
   ]
  },
  {
   "cell_type": "code",
   "execution_count": 15,
   "metadata": {},
   "outputs": [
    {
     "name": "stdout",
     "output_type": "stream",
     "text": [
      "8864\n",
      "3222\n"
     ]
    }
   ],
   "source": [
    "# 2.3d Cleaning the android and iOS datatables of Paid entries\n",
    "android_free = []\n",
    "ios_free = []\n",
    "\n",
    "for row in android_english:\n",
    "    if row[7] == '0':\n",
    "        android_free.append(row)\n",
    "        \n",
    "for row in ios_english:\n",
    "    if row[5] == '0':\n",
    "        ios_free.append(row)\n",
    "        \n",
    "print(len(android_free))\n",
    "print(len(ios_free))\n"
   ]
  },
  {
   "cell_type": "markdown",
   "metadata": {},
   "source": [
    "### 3.1 Light Analysis:\n",
    "\n",
    "We can look at the genres for `android` and `iOS` apps to see the demand and supply of genres\n",
    "\n",
    "3.1a Dictionary which shows number of each genre on `android`<br>\n",
    "3.1b Creating two functions (1) A frequency table (2) A display table sorted by frequency"
   ]
  },
  {
   "cell_type": "code",
   "execution_count": 16,
   "metadata": {},
   "outputs": [
    {
     "name": "stdout",
     "output_type": "stream",
     "text": [
      "{'Art & Design': 53, 'Art & Design;Creativity': 6, 'Auto & Vehicles': 82, 'Beauty': 53, 'Books & Reference': 190, 'Business': 407, 'Comics': 54, 'Comics;Creativity': 1, 'Communication': 287, 'Dating': 165, 'Education': 474, 'Education;Creativity': 4, 'Education;Education': 30, 'Education;Pretend Play': 5, 'Education;Brain Games': 3, 'Entertainment': 538, 'Entertainment;Brain Games': 7, 'Entertainment;Creativity': 3, 'Entertainment;Music & Video': 15, 'Events': 63, 'Finance': 328, 'Food & Drink': 110, 'Health & Fitness': 273, 'House & Home': 73, 'Libraries & Demo': 83, 'Lifestyle': 345, 'Lifestyle;Pretend Play': 1, 'Card': 40, 'Arcade': 164, 'Puzzle': 100, 'Racing': 88, 'Sports': 307, 'Casual': 156, 'Simulation': 181, 'Adventure': 60, 'Trivia': 37, 'Action': 275, 'Word': 23, 'Role Playing': 83, 'Strategy': 81, 'Board': 34, 'Music': 18, 'Action;Action & Adventure': 9, 'Casual;Brain Games': 12, 'Educational;Creativity': 3, 'Puzzle;Brain Games': 15, 'Educational;Education': 35, 'Casual;Pretend Play': 21, 'Educational;Brain Games': 6, 'Art & Design;Pretend Play': 1, 'Educational;Pretend Play': 8, 'Entertainment;Education': 1, 'Casual;Education': 2, 'Casual;Creativity': 6, 'Casual;Action & Adventure': 12, 'Music;Music & Video': 2, 'Arcade;Pretend Play': 1, 'Adventure;Action & Adventure': 3, 'Role Playing;Action & Adventure': 3, 'Simulation;Pretend Play': 2, 'Puzzle;Creativity': 2, 'Simulation;Action & Adventure': 7, 'Racing;Action & Adventure': 15, 'Sports;Action & Adventure': 2, 'Educational;Action & Adventure': 3, 'Arcade;Action & Adventure': 11, 'Entertainment;Action & Adventure': 3, 'Art & Design;Action & Adventure': 1, 'Puzzle;Action & Adventure': 3, 'Education;Action & Adventure': 3, 'Strategy;Action & Adventure': 1, 'Music & Audio;Music & Video': 1, 'Health & Fitness;Education': 1, 'Board;Action & Adventure': 2, 'Board;Brain Games': 7, 'Casual;Music & Video': 1, 'Education;Music & Video': 3, 'Role Playing;Pretend Play': 4, 'Entertainment;Pretend Play': 2, 'Medical': 313, 'Social': 236, 'Shopping': 199, 'Photography': 261, 'Travel & Local': 206, 'Travel & Local;Action & Adventure': 1, 'Tools': 749, 'Tools;Education': 1, 'Personalization': 294, 'Productivity': 345, 'Parenting': 44, 'Parenting;Music & Video': 6, 'Parenting;Education': 7, 'Parenting;Brain Games': 1, 'Weather': 71, 'Video Players & Editors': 157, 'Video Players & Editors;Music & Video': 2, 'Video Players & Editors;Creativity': 1, 'News & Magazines': 248, 'Maps & Navigation': 124, 'Health & Fitness;Action & Adventure': 1, 'Educational': 33, 'Casino': 38, 'Trivia;Education': 1, 'Lifestyle;Education': 1, 'Card;Action & Adventure': 1, 'Books & Reference;Education': 1, 'Simulation;Education': 1, 'Puzzle;Education': 1, 'Adventure;Education': 1, 'Role Playing;Brain Games': 1, 'Strategy;Education': 1, 'Racing;Pretend Play': 1, 'Communication;Creativity': 1, 'Strategy;Creativity': 1}\n"
     ]
    }
   ],
   "source": [
    "# 3.1a Dictionary which shows the number of each genre on android\n",
    "\n",
    "android_genre = {}\n",
    "\n",
    "for app in android_free:\n",
    "    genre = app[9]\n",
    "    if genre in android_genre:\n",
    "        android_genre[genre] += 1\n",
    "    else:\n",
    "        android_genre[genre] = 1\n",
    "\n",
    "\n",
    "print(android_genre)"
   ]
  },
  {
   "cell_type": "code",
   "execution_count": 17,
   "metadata": {},
   "outputs": [],
   "source": [
    "# 3.1b Two functions. Frequency table and display table.\n",
    "\n",
    "def freq_table(dataset, index):\n",
    "    a_dict = {}\n",
    "    count = 0\n",
    "    for row in dataset:\n",
    "        key = row[index]\n",
    "        if key in a_dict:\n",
    "            a_dict[key] += 1\n",
    "            count += 1\n",
    "        else:\n",
    "            a_dict[key] = 1\n",
    "            count += 1\n",
    "            \n",
    "    for key in a_dict:\n",
    "        a_dict[key] /= count\n",
    "        a_dict[key] *= 100\n",
    "        \n",
    "    return a_dict\n",
    "        \n",
    "def display_table(dataset, index):\n",
    "    table = freq_table(dataset, index)\n",
    "    table_display = []\n",
    "    for key in table:\n",
    "        key_val_as_list = [table[key], key]\n",
    "        table_display.append(key_val_as_list)\n",
    "\n",
    "    table_sorted = sorted(table_display, reverse = True)\n",
    "    for entry in table_sorted:\n",
    "        print(entry[1], ':', entry[0])\n",
    "    "
   ]
  },
  {
   "cell_type": "code",
   "execution_count": 18,
   "metadata": {},
   "outputs": [
    {
     "name": "stdout",
     "output_type": "stream",
     "text": [
      "Android Genres:\n",
      "Tools : 8.449909747292418\n",
      "Entertainment : 6.069494584837545\n",
      "Education : 5.347472924187725\n",
      "Business : 4.591606498194946\n",
      "Productivity : 3.892148014440433\n",
      "Lifestyle : 3.892148014440433\n",
      "Finance : 3.7003610108303246\n",
      "Medical : 3.531137184115524\n",
      "Sports : 3.463447653429603\n",
      "Personalization : 3.3167870036101084\n",
      "Communication : 3.2378158844765346\n",
      "Action : 3.1024368231046933\n",
      "Health & Fitness : 3.0798736462093865\n",
      "Photography : 2.944494584837545\n",
      "News & Magazines : 2.7978339350180503\n",
      "Social : 2.6624548736462095\n",
      "Travel & Local : 2.3240072202166067\n",
      "Shopping : 2.2450361010830324\n",
      "Books & Reference : 2.1435018050541514\n",
      "Simulation : 2.0419675090252705\n",
      "Dating : 1.861462093862816\n",
      "Arcade : 1.8501805054151623\n",
      "Video Players & Editors : 1.7712093862815883\n",
      "Casual : 1.7599277978339352\n",
      "Maps & Navigation : 1.3989169675090252\n",
      "Food & Drink : 1.2409747292418771\n",
      "Puzzle : 1.128158844765343\n",
      "Racing : 0.9927797833935018\n",
      "Role Playing : 0.9363718411552346\n",
      "Libraries & Demo : 0.9363718411552346\n",
      "Auto & Vehicles : 0.9250902527075812\n",
      "Strategy : 0.9138086642599278\n",
      "House & Home : 0.8235559566787004\n",
      "Weather : 0.8009927797833934\n",
      "Events : 0.7107400722021661\n",
      "Adventure : 0.6768953068592057\n",
      "Comics : 0.6092057761732852\n",
      "Beauty : 0.5979241877256317\n",
      "Art & Design : 0.5979241877256317\n",
      "Parenting : 0.4963898916967509\n",
      "Card : 0.45126353790613716\n",
      "Casino : 0.42870036101083037\n",
      "Trivia : 0.41741877256317694\n",
      "Educational;Education : 0.39485559566787\n",
      "Board : 0.3835740072202166\n",
      "Educational : 0.3722924187725632\n",
      "Education;Education : 0.33844765342960287\n",
      "Word : 0.2594765342960289\n",
      "Casual;Pretend Play : 0.236913357400722\n",
      "Music : 0.2030685920577617\n",
      "Racing;Action & Adventure : 0.16922382671480143\n",
      "Puzzle;Brain Games : 0.16922382671480143\n",
      "Entertainment;Music & Video : 0.16922382671480143\n",
      "Casual;Brain Games : 0.13537906137184114\n",
      "Casual;Action & Adventure : 0.13537906137184114\n",
      "Arcade;Action & Adventure : 0.12409747292418773\n",
      "Action;Action & Adventure : 0.10153429602888085\n",
      "Educational;Pretend Play : 0.09025270758122744\n",
      "Simulation;Action & Adventure : 0.078971119133574\n",
      "Parenting;Education : 0.078971119133574\n",
      "Entertainment;Brain Games : 0.078971119133574\n",
      "Board;Brain Games : 0.078971119133574\n",
      "Parenting;Music & Video : 0.06768953068592057\n",
      "Educational;Brain Games : 0.06768953068592057\n",
      "Casual;Creativity : 0.06768953068592057\n",
      "Art & Design;Creativity : 0.06768953068592057\n",
      "Education;Pretend Play : 0.056407942238267145\n",
      "Role Playing;Pretend Play : 0.04512635379061372\n",
      "Education;Creativity : 0.04512635379061372\n",
      "Role Playing;Action & Adventure : 0.033844765342960284\n",
      "Puzzle;Action & Adventure : 0.033844765342960284\n",
      "Entertainment;Creativity : 0.033844765342960284\n",
      "Entertainment;Action & Adventure : 0.033844765342960284\n",
      "Educational;Creativity : 0.033844765342960284\n",
      "Educational;Action & Adventure : 0.033844765342960284\n",
      "Education;Music & Video : 0.033844765342960284\n",
      "Education;Brain Games : 0.033844765342960284\n",
      "Education;Action & Adventure : 0.033844765342960284\n",
      "Adventure;Action & Adventure : 0.033844765342960284\n",
      "Video Players & Editors;Music & Video : 0.02256317689530686\n",
      "Sports;Action & Adventure : 0.02256317689530686\n",
      "Simulation;Pretend Play : 0.02256317689530686\n",
      "Puzzle;Creativity : 0.02256317689530686\n",
      "Music;Music & Video : 0.02256317689530686\n",
      "Entertainment;Pretend Play : 0.02256317689530686\n",
      "Casual;Education : 0.02256317689530686\n",
      "Board;Action & Adventure : 0.02256317689530686\n",
      "Video Players & Editors;Creativity : 0.01128158844765343\n",
      "Trivia;Education : 0.01128158844765343\n",
      "Travel & Local;Action & Adventure : 0.01128158844765343\n",
      "Tools;Education : 0.01128158844765343\n",
      "Strategy;Education : 0.01128158844765343\n",
      "Strategy;Creativity : 0.01128158844765343\n",
      "Strategy;Action & Adventure : 0.01128158844765343\n",
      "Simulation;Education : 0.01128158844765343\n",
      "Role Playing;Brain Games : 0.01128158844765343\n",
      "Racing;Pretend Play : 0.01128158844765343\n",
      "Puzzle;Education : 0.01128158844765343\n",
      "Parenting;Brain Games : 0.01128158844765343\n",
      "Music & Audio;Music & Video : 0.01128158844765343\n",
      "Lifestyle;Pretend Play : 0.01128158844765343\n",
      "Lifestyle;Education : 0.01128158844765343\n",
      "Health & Fitness;Education : 0.01128158844765343\n",
      "Health & Fitness;Action & Adventure : 0.01128158844765343\n",
      "Entertainment;Education : 0.01128158844765343\n",
      "Communication;Creativity : 0.01128158844765343\n",
      "Comics;Creativity : 0.01128158844765343\n",
      "Casual;Music & Video : 0.01128158844765343\n",
      "Card;Action & Adventure : 0.01128158844765343\n",
      "Books & Reference;Education : 0.01128158844765343\n",
      "Art & Design;Pretend Play : 0.01128158844765343\n",
      "Art & Design;Action & Adventure : 0.01128158844765343\n",
      "Arcade;Pretend Play : 0.01128158844765343\n",
      "Adventure;Education : 0.01128158844765343\n",
      "\n",
      "\n",
      "Android Categories:\n",
      "FAMILY : 18.907942238267147\n",
      "GAME : 9.724729241877256\n",
      "TOOLS : 8.461191335740072\n",
      "BUSINESS : 4.591606498194946\n",
      "LIFESTYLE : 3.9034296028880866\n",
      "PRODUCTIVITY : 3.892148014440433\n",
      "FINANCE : 3.7003610108303246\n",
      "MEDICAL : 3.531137184115524\n",
      "SPORTS : 3.395758122743682\n",
      "PERSONALIZATION : 3.3167870036101084\n",
      "COMMUNICATION : 3.2378158844765346\n",
      "HEALTH_AND_FITNESS : 3.0798736462093865\n",
      "PHOTOGRAPHY : 2.944494584837545\n",
      "NEWS_AND_MAGAZINES : 2.7978339350180503\n",
      "SOCIAL : 2.6624548736462095\n",
      "TRAVEL_AND_LOCAL : 2.33528880866426\n",
      "SHOPPING : 2.2450361010830324\n",
      "BOOKS_AND_REFERENCE : 2.1435018050541514\n",
      "DATING : 1.861462093862816\n",
      "VIDEO_PLAYERS : 1.7937725631768955\n",
      "MAPS_AND_NAVIGATION : 1.3989169675090252\n",
      "FOOD_AND_DRINK : 1.2409747292418771\n",
      "EDUCATION : 1.1620036101083033\n",
      "ENTERTAINMENT : 0.9589350180505415\n",
      "LIBRARIES_AND_DEMO : 0.9363718411552346\n",
      "AUTO_AND_VEHICLES : 0.9250902527075812\n",
      "HOUSE_AND_HOME : 0.8235559566787004\n",
      "WEATHER : 0.8009927797833934\n",
      "EVENTS : 0.7107400722021661\n",
      "PARENTING : 0.6543321299638989\n",
      "ART_AND_DESIGN : 0.6430505415162455\n",
      "COMICS : 0.6204873646209386\n",
      "BEAUTY : 0.5979241877256317\n",
      "\n",
      "\n",
      "iOS Genres:\n",
      "Games : 58.16263190564867\n",
      "Entertainment : 7.883302296710118\n",
      "Photo & Video : 4.9658597144630665\n",
      "Education : 3.662321539416512\n",
      "Social Networking : 3.2898820608317814\n",
      "Shopping : 2.60707635009311\n",
      "Utilities : 2.5139664804469275\n",
      "Sports : 2.1415270018621975\n",
      "Music : 2.0484171322160147\n",
      "Health & Fitness : 2.0173805090006205\n",
      "Productivity : 1.7380509000620732\n",
      "Lifestyle : 1.5828677839851024\n",
      "News : 1.3345747982619491\n",
      "Travel : 1.2414649286157666\n",
      "Finance : 1.1173184357541899\n",
      "Weather : 0.8690254500310366\n",
      "Food & Drink : 0.8069522036002483\n",
      "Reference : 0.5586592178770949\n",
      "Business : 0.5276225946617008\n",
      "Book : 0.4345127250155183\n",
      "Navigation : 0.186219739292365\n",
      "Medical : 0.186219739292365\n",
      "Catalogs : 0.12414649286157665\n"
     ]
    }
   ],
   "source": [
    "# 3.1b Trying out our two functions.\n",
    "\n",
    "print('Android Genres:')\n",
    "display_table(android_free, 9)\n",
    "print('\\n')\n",
    "print('Android Categories:')\n",
    "display_table(android_free, 1)\n",
    "print('\\n')\n",
    "print('iOS Genres:')\n",
    "display_table(ios_free, 12)"
   ]
  },
  {
   "cell_type": "markdown",
   "metadata": {},
   "source": [
    "### 3.2 Light Analysis:\n",
    "\n",
    "On iOS, we know don't know the number of app downloads.\n",
    "However, we do know the number of times an app has been rated, column name = rating_count_tot\n",
    "\n",
    "3.2a iOS Genre with total number of ratings, avg. number of ratings, and the ratio"
   ]
  },
  {
   "cell_type": "code",
   "execution_count": 43,
   "metadata": {},
   "outputs": [
    {
     "name": "stdout",
     "output_type": "stream",
     "text": [
      "Games : [42705967, 22789, 1874]\n",
      "Social Networking : [7584125, 71548, 106]\n",
      "Photo & Video : [4550647, 28442, 160]\n",
      "Music : [3783551, 57327, 66]\n",
      "Entertainment : [3563577, 14030, 254]\n",
      "Shopping : [2261254, 26920, 84]\n",
      "Sports : [1587614, 23009, 69]\n",
      "Health & Fitness : [1514371, 23298, 65]\n",
      "Utilities : [1513441, 18684, 81]\n",
      "Weather : [1463837, 52280, 28]\n",
      "Reference : [1348958, 74942, 18]\n",
      "Productivity : [1177591, 21028, 56]\n",
      "Finance : [1132846, 31468, 36]\n",
      "Travel : [1129752, 28244, 40]\n",
      "News : [913665, 21248, 43]\n",
      "Food & Drink : [866682, 33334, 26]\n",
      "Lifestyle : [840774, 16486, 51]\n",
      "Education : [826470, 7004, 118]\n",
      "Book : [556619, 39758, 14]\n",
      "Navigation : [516542, 86090, 6]\n",
      "Business : [127349, 7491, 17]\n",
      "Catalogs : [16016, 4004, 4]\n",
      "Medical : [3672, 612, 6]\n",
      "\n",
      "\n",
      "The range for the number of games reviews: 0 to 2130805\n",
      "The range for the number of games reviews: 0 to 1341\n"
     ]
    }
   ],
   "source": [
    "# 3.2a iOS Genre with total number of ratings and avg. number of ratings \n",
    "\n",
    "\n",
    "# Create a Dictionary with genres for iOS\n",
    "ios_genres = freq_table(ios_free, 12)\n",
    "\n",
    "\n",
    "# Change the key value of the genres to hold 3 values in a list [Total number of ratings, \n",
    "# avg. number of ratings, ratio]\n",
    "for genre in ios_genres:\n",
    "    total = 0\n",
    "    len_genre = 0\n",
    "    for row in ios_free:\n",
    "        genre_app = row[12]\n",
    "        if genre_app == genre:\n",
    "            total += float(row[6])\n",
    "            len_genre += 1\n",
    "    avg_user_ratings = round(total / len_genre)\n",
    "    ios_genres[genre] = [round(total), avg_user_ratings, round(total/avg_user_ratings)]\n",
    "\n",
    "    \n",
    "# The function display2_table only has the table input. \n",
    "def display2_table(table):\n",
    "    table_display = []\n",
    "    for key in table:\n",
    "        key_val_as_list = [table[key], key]\n",
    "        table_display.append(key_val_as_list)\n",
    "\n",
    "    table_sorted = sorted(table_display, reverse = True)\n",
    "    for entry in table_sorted:\n",
    "        print(entry[1], ':', entry[0])\n",
    "        \n",
    "dict_table(ios_genres)\n",
    "print('\\n')\n",
    "\n",
    "# From the results, it's possible that in the games genre, there are a few apps which take up a lot of the ratings.\n",
    "# Let's test our hypothesis by looking at the game with the lowest number of ratings and the game with \n",
    "# the highest number of ratings (the range).\n",
    "# We can compare this with the Medical genre.\n",
    "\n",
    "def min_max(data, genre):\n",
    "    # Setting games_min to a large number is arbitrary, I've yet to find a more elegant solution that doesn't require\n",
    "    # hardcoding\n",
    "    games_min = 50000000\n",
    "    games_max = 0\n",
    "    for row in data:\n",
    "        if row[12] == genre and float(row[6]) < games_min:\n",
    "            games_min = round(float(row[6]))\n",
    "\n",
    "    for row in data:\n",
    "        if row[12] == genre and float(row[6]) > games_max:\n",
    "            games_max = round(float(row[6]))\n",
    "\n",
    "    print('The range for the number of games reviews:', games_min, 'to', games_max)\n",
    "\n",
    "        \n",
    "min_max(ios_free, 'Games')\n",
    "min_max(ios_free, 'Medical')\n"
   ]
  },
  {
   "cell_type": "markdown",
   "metadata": {},
   "source": [
    "### 3.2 Light Analysis:\n",
    "\n",
    "On `Android`, the number of app installs can be found on index 5\n",
    "\n",
    "3.2b Create a table with the average number of installs for each genre"
   ]
  },
  {
   "cell_type": "code",
   "execution_count": 22,
   "metadata": {},
   "outputs": [
    {
     "name": "stdout",
     "output_type": "stream",
     "text": [
      "COMMUNICATION : [38456119, 1000000000]\n",
      "VIDEO_PLAYERS : [24727872, 1000000000]\n",
      "SOCIAL : [23253652, 1000000000]\n",
      "PHOTOGRAPHY : [17840110, 1000000000]\n",
      "PRODUCTIVITY : [16787331, 1000000000]\n",
      "GAME : [15588016, 1000000000]\n",
      "TRAVEL_AND_LOCAL : [13984078, 1000000000]\n",
      "ENTERTAINMENT : [11640706, 100000000]\n",
      "TOOLS : [10801391, 1000000000]\n",
      "NEWS_AND_MAGAZINES : [9549178, 1000000000]\n",
      "BOOKS_AND_REFERENCE : [8767812, 1000000000]\n",
      "SHOPPING : [7036877, 100000000]\n",
      "PERSONALIZATION : [5201483, 100000000]\n",
      "WEATHER : [5074486, 50000000]\n",
      "HEALTH_AND_FITNESS : [4188822, 500000000]\n",
      "MAPS_AND_NAVIGATION : [4056942, 100000000]\n",
      "FAMILY : [3695642, 1000000000]\n",
      "SPORTS : [3638640, 100000000]\n",
      "ART_AND_DESIGN : [1986335, 50000000]\n",
      "FOOD_AND_DRINK : [1924898, 10000000]\n",
      "EDUCATION : [1833495, 10000000]\n",
      "BUSINESS : [1712290, 100000000]\n",
      "LIFESTYLE : [1437816, 100000000]\n",
      "FINANCE : [1387692, 100000000]\n",
      "HOUSE_AND_HOME : [1331541, 10000000]\n",
      "DATING : [854029, 10000000]\n",
      "COMICS : [817657, 10000000]\n",
      "AUTO_AND_VEHICLES : [647318, 10000000]\n",
      "LIBRARIES_AND_DEMO : [638504, 10000000]\n",
      "PARENTING : [542604, 10000000]\n",
      "BEAUTY : [513152, 10000000]\n",
      "EVENTS : [253542, 5000000]\n",
      "MEDICAL : [120551, 5000000]\n"
     ]
    }
   ],
   "source": [
    "# 3.2b Create a table with the average number of installs for each genre\n",
    "# Index 1 is the category column\n",
    "# Index 5 is the installs column\n",
    "\n",
    "category_dict = freq_table(android_free, 1)\n",
    "\n",
    "for category in category_dict:\n",
    "    total = 0\n",
    "    len_category = 0\n",
    "    max_category = 0\n",
    "    for row in android_free:\n",
    "        installs = row[5]\n",
    "        # We need to clean the installs data to use as a float.\n",
    "        installs = installs.replace('+','')\n",
    "        installs = installs.replace(',','')\n",
    "        installs = float(installs)\n",
    "        if category == row[1]:\n",
    "            total += installs\n",
    "            len_category += 1\n",
    "            if installs > max_category:\n",
    "                max_category = installs\n",
    "    avg_installs = total / len_category\n",
    "    category_dict[category] = [round(avg_installs), round(max_category)]\n",
    "    \n",
    "dict_table(category_dict)\n",
    "            \n",
    "            "
   ]
  },
  {
   "cell_type": "code",
   "execution_count": 40,
   "metadata": {},
   "outputs": [
    {
     "name": "stdout",
     "output_type": "stream",
     "text": [
      "['Best Hairstyles step by step', 'BEAUTY', '4.5', '45452', '9.2M', '5,000,000+', 'Free', '0', 'Everyone', 'Beauty', 'July 19, 2018', '1.25', '4.0 and up']\n"
     ]
    }
   ],
   "source": [
    "# Just out of curiosity, I wanted to see which `Medical` apps had more than 5 mil downloads.\n",
    "\n",
    "for row in android_free:\n",
    "    if row[5] == '5,000,000+' and row[1] == \"MEDICAL\":\n",
    "        print(row)\n",
    "\n",
    "        "
   ]
  }
 ],
 "metadata": {
  "kernelspec": {
   "display_name": "Python 3",
   "language": "python",
   "name": "python3"
  },
  "language_info": {
   "codemirror_mode": {
    "name": "ipython",
    "version": 3
   },
   "file_extension": ".py",
   "mimetype": "text/x-python",
   "name": "python",
   "nbconvert_exporter": "python",
   "pygments_lexer": "ipython3",
   "version": "3.7.0"
  }
 },
 "nbformat": 4,
 "nbformat_minor": 2
}
